{
 "cells": [
  {
   "cell_type": "markdown",
   "id": "2a79267c",
   "metadata": {},
   "source": [
    "# 1.Create a null vector of size 10 but the fifth value which is 1."
   ]
  },
  {
   "cell_type": "code",
   "execution_count": 2,
   "id": "144c8ffd",
   "metadata": {},
   "outputs": [
    {
     "name": "stdout",
     "output_type": "stream",
     "text": [
      "[0. 0. 0. 0. 1. 0. 0. 0. 0. 0.]\n"
     ]
    }
   ],
   "source": [
    "import numpy as np\n",
    "\n",
    "n = np.zeros(10)\n",
    "n[4] = 1\n",
    "print(n)\n"
   ]
  },
  {
   "cell_type": "markdown",
   "id": "beafd72c",
   "metadata": {},
   "source": [
    "# 2. Create a vector with values ranging from 10 to 49."
   ]
  },
  {
   "cell_type": "code",
   "execution_count": 3,
   "id": "380e130f",
   "metadata": {},
   "outputs": [
    {
     "data": {
      "text/plain": [
       "array([10, 11, 12, 13, 14, 15, 16, 17, 18, 19, 20, 21, 22, 23, 24, 25, 26,\n",
       "       27, 28, 29, 30, 31, 32, 33, 34, 35, 36, 37, 38, 39, 40, 41, 42, 43,\n",
       "       44, 45, 46, 47, 48, 49])"
      ]
     },
     "execution_count": 3,
     "metadata": {},
     "output_type": "execute_result"
    }
   ],
   "source": [
    "n = np.arange(10,50)\n",
    "n"
   ]
  },
  {
   "cell_type": "markdown",
   "id": "8e237629",
   "metadata": {},
   "source": [
    "# 3. Create a 3x3 matrix with values ranging from 0 to 8"
   ]
  },
  {
   "cell_type": "code",
   "execution_count": 9,
   "id": "4861dbae",
   "metadata": {},
   "outputs": [
    {
     "name": "stdout",
     "output_type": "stream",
     "text": [
      "[[[0 1 2]\n",
      "  [3 4 5]\n",
      "  [6 7 8]]]\n",
      "3\n",
      "[[0 1 2]\n",
      " [3 4 5]\n",
      " [6 7 8]]\n",
      "2\n"
     ]
    }
   ],
   "source": [
    "a = np.array([[[0,1,2],[3,4,5],[6,7,8]]])\n",
    "print(a)\n",
    "print(a.ndim)\n",
    "\n",
    "# or \n",
    "\n",
    "n = np.arange(0,9)\n",
    "matrix = n.reshape(3,3)\n",
    "print(matrix)\n",
    "print(matrix.ndim)"
   ]
  },
  {
   "cell_type": "markdown",
   "id": "387c174e",
   "metadata": {},
   "source": [
    "# 4. Find indices of non-zero elements from [1,2,0,0,4,0]"
   ]
  },
  {
   "cell_type": "code",
   "execution_count": 22,
   "id": "5f25273b",
   "metadata": {},
   "outputs": [
    {
     "name": "stdout",
     "output_type": "stream",
     "text": [
      "(array([0, 1, 4], dtype=int64),)\n"
     ]
    }
   ],
   "source": [
    "n = [1,2,0,0,4,0]\n",
    "a = np.array(n)\n",
    "i = np.where(a != 0)\n",
    "print(i)\n"
   ]
  },
  {
   "cell_type": "markdown",
   "id": "1e07c596",
   "metadata": {},
   "source": [
    "# 5.Create a 10x10 array with random values and find the minimum and maximum values."
   ]
  },
  {
   "cell_type": "code",
   "execution_count": 21,
   "id": "515b6531",
   "metadata": {},
   "outputs": [
    {
     "name": "stdout",
     "output_type": "stream",
     "text": [
      "[[[0.8108302  0.44052823 0.57934635 0.09844476 0.10158648 0.59206777\n",
      "   0.78389947 0.66380395 0.77091659 0.96089727]]\n",
      "\n",
      " [[0.69608676 0.19383733 0.38056661 0.99886748 0.02372072 0.1408305\n",
      "   0.59795962 0.34579983 0.74265139 0.13992576]]\n",
      "\n",
      " [[0.69348331 0.4817277  0.49798082 0.01199625 0.23531517 0.55396011\n",
      "   0.57357723 0.51073633 0.56348955 0.55332698]]\n",
      "\n",
      " [[0.17052621 0.30985489 0.39391401 0.3255643  0.86239892 0.35748078\n",
      "   0.4502342  0.62303655 0.92618209 0.85084833]]\n",
      "\n",
      " [[0.13721799 0.12683674 0.4639446  0.24971058 0.27652866 0.98620708\n",
      "   0.68431504 0.09412669 0.61904309 0.51902434]]\n",
      "\n",
      " [[0.52882106 0.02147254 0.22044173 0.96778464 0.25950041 0.37718715\n",
      "   0.24227078 0.18674604 0.17539012 0.10615581]]\n",
      "\n",
      " [[0.31072428 0.2226517  0.97292272 0.75317618 0.43064155 0.55891071\n",
      "   0.85555085 0.63867974 0.70758194 0.49217118]]\n",
      "\n",
      " [[0.65709944 0.05323609 0.77331711 0.03795444 0.16747156 0.72738793\n",
      "   0.27455351 0.761185   0.96586065 0.67762224]]\n",
      "\n",
      " [[0.9662328  0.01020092 0.34358069 0.4293103  0.21932406 0.59553495\n",
      "   0.21015265 0.40003128 0.65300169 0.05532331]]\n",
      "\n",
      " [[0.36252451 0.24574085 0.63500754 0.48811126 0.54904458 0.53937898\n",
      "   0.11724426 0.17332012 0.91451509 0.68436183]]]\n",
      "ndimenstions =  3\n",
      "max values is :  0.9988674828008611\n",
      "min values is :  0.010200924507164366\n"
     ]
    }
   ],
   "source": [
    "ran = np.random.rand(10,1,10)\n",
    "print(ran)\n",
    "print('ndimenstions = ', ran.ndim)\n",
    "print(\"max values is : \", np.max(ran))\n",
    "print(\"min values is : \", np.min(ran))"
   ]
  },
  {
   "cell_type": "markdown",
   "id": "560b8d19",
   "metadata": {},
   "source": [
    "# 6. Create a random vector of size 30 and find the mean value."
   ]
  },
  {
   "cell_type": "code",
   "execution_count": 27,
   "id": "b0833041",
   "metadata": {
    "scrolled": true
   },
   "outputs": [
    {
     "name": "stdout",
     "output_type": "stream",
     "text": [
      "[148 181 144 176 185 182 154 167 150 108 193 152 120 130 133 180 169 164\n",
      " 139 170 148 124 150 180 164 112 180 174 142 190]\n",
      "mean value is :  156.96666666666667\n"
     ]
    }
   ],
   "source": [
    "n = np.random.randint(100,200,30)\n",
    "print(n)\n",
    "m = np.mean(n)\n",
    "print(\"mean value is : \",m)"
   ]
  },
  {
   "cell_type": "code",
   "execution_count": null,
   "id": "b21a612a",
   "metadata": {},
   "outputs": [],
   "source": [
    "\n"
   ]
  }
 ],
 "metadata": {
  "kernelspec": {
   "display_name": "Python 3 (ipykernel)",
   "language": "python",
   "name": "python3"
  },
  "language_info": {
   "codemirror_mode": {
    "name": "ipython",
    "version": 3
   },
   "file_extension": ".py",
   "mimetype": "text/x-python",
   "name": "python",
   "nbconvert_exporter": "python",
   "pygments_lexer": "ipython3",
   "version": "3.11.3"
  }
 },
 "nbformat": 4,
 "nbformat_minor": 5
}
