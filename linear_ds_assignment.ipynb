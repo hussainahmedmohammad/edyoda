{
 "cells": [
  {
   "cell_type": "markdown",
   "id": "3aa907bf",
   "metadata": {},
   "source": [
    "1> Write a program to find all pairs of an integer array whose sum is equal to a given number?"
   ]
  },
  {
   "cell_type": "code",
   "execution_count": 7,
   "id": "0bb102cb",
   "metadata": {},
   "outputs": [
    {
     "name": "stdout",
     "output_type": "stream",
     "text": [
      "[(2, 4), (1, 5), (6, 0)]\n"
     ]
    }
   ],
   "source": [
    "def pairs(value, total):\n",
    "    lists = []\n",
    "    for i in range(len(value)):\n",
    "        for j in range(i + 1, len(value)):\n",
    "            if value[i] + value[j] == total:\n",
    "                lists.append((value[i], value[j]))\n",
    "    return lists\n",
    "\n",
    "# Example usage\n",
    "value = [2, 4, 1, 6, 0, 5]\n",
    "total = 6\n",
    "result = pairs(value, total)\n",
    "print(result)"
   ]
  },
  {
   "cell_type": "code",
   "execution_count": 12,
   "id": "4ccfdab9",
   "metadata": {},
   "outputs": [
    {
     "name": "stdout",
     "output_type": "stream",
     "text": [
      "['a', 4, 3, 2, 'e']\n"
     ]
    }
   ],
   "source": [
    "# 2>Write a program to reverse an array in place? In place means you cannot create a new array. \n",
    "# You have to update the original array.\n",
    "\n",
    "def reverse_ele(lists):\n",
    "    left = 0 \n",
    "    right = len(lists) - 1\n",
    "    while left < right:\n",
    "        lists[left], lists[right] = lists[right], lists[left]  # Swap elements\n",
    "        left += 1\n",
    "        right -= 1\n",
    "\n",
    "\n",
    "lists = ['e', 2, 3, 4, 'a']\n",
    "reverse_ele(lists)\n",
    "print(lists)\n",
    "\n"
   ]
  },
  {
   "cell_type": "code",
   "execution_count": 22,
   "id": "78000032",
   "metadata": {},
   "outputs": [
    {
     "name": "stdout",
     "output_type": "stream",
     "text": [
      "True\n"
     ]
    }
   ],
   "source": [
    "#Q3. Write a program to check if two strings are a rotation of each other\n",
    "\n",
    "\n",
    "def rev_string(a,b):\n",
    "    if len(a) != len(b):\n",
    "        return False\n",
    "    \n",
    "    for i in a:\n",
    "        if i in b:\n",
    "            return True\n",
    "        else:\n",
    "            return False\n",
    "    \n",
    "a = '1234'\n",
    "b = '2314'\n",
    "print(rev_string(a,b))"
   ]
  },
  {
   "cell_type": "code",
   "execution_count": 33,
   "id": "7bd11957",
   "metadata": {},
   "outputs": [
    {
     "name": "stdout",
     "output_type": "stream",
     "text": [
      "entre here : abcdabd\n",
      "First non-repeated character: c\n"
     ]
    }
   ],
   "source": [
    "#4>Write a program to print the first non-repeated character from a string?\n",
    "\n",
    "\n",
    "def non_repeated_char(x):\n",
    "    char = {}\n",
    "    \n",
    "    for i in x:\n",
    "        char[i] = char.get(i, 0) + 1\n",
    "     \n",
    "    for i in x:\n",
    "        if char[i] == 1:\n",
    "            return i\n",
    "    \n",
    "    return None  \n",
    "\n",
    "\n",
    "a = input('entre here : ')\n",
    "result = non_repeated_char(a)\n",
    "\n",
    "if result:\n",
    "    print(\"First non-repeated character:\", result)\n",
    "else:\n",
    "    print(\"all are repeated characters\")\n",
    "\n",
    "\n"
   ]
  },
  {
   "cell_type": "code",
   "execution_count": 35,
   "id": "4a41f336",
   "metadata": {},
   "outputs": [
    {
     "name": "stdout",
     "output_type": "stream",
     "text": [
      "Move disk 1 from A to B\n",
      "Move disk 2 from A to C\n",
      "Move disk 1 from B to C\n"
     ]
    }
   ],
   "source": [
    "# 5>  Read about the Tower of Hanoi algorithm. Write a program to implement it.\n",
    "\n",
    "def tower_of_hanoi(n, source, target, auxiliary):\n",
    "    if n == 1:\n",
    "        print(f\"Move disk 1 from {source} to {target}\")\n",
    "        return\n",
    "    tower_of_hanoi(n - 1, source, auxiliary, target)\n",
    "    print(f\"Move disk {n} from {source} to {target}\")\n",
    "    tower_of_hanoi(n - 1, auxiliary, target, source)\n",
    "\n",
    "\n",
    "num_disks = 2\n",
    "tower_of_hanoi(num_disks, 'A', 'C', 'B')"
   ]
  },
  {
   "cell_type": "code",
   "execution_count": 39,
   "id": "33cd11bc",
   "metadata": {},
   "outputs": [
    {
     "name": "stdout",
     "output_type": "stream",
     "text": [
      "Prefix expression: 1\n"
     ]
    }
   ],
   "source": [
    "# Read about infix, prefix, and postfix expressions. \n",
    "# Write a program to convert postfix to prefix expression.\n",
    "\n",
    "def postfix_to_prefix(postfix):\n",
    "    stack = []\n",
    "    \n",
    "    for i in postfix.split():\n",
    "        if i.isalnum():\n",
    "            stack.append(i)\n",
    "        else:\n",
    "            operand2 = stack.pop()\n",
    "            operand1 = stack.pop()\n",
    "            expression = i + \" \" + operand1 + \" \" + operand2\n",
    "            stack.append(expression)\n",
    "    \n",
    "    return stack[0]\n",
    "\n",
    "\n",
    "postfix_expression = \"1 2 3 4 a\"\n",
    "prefix_expression = postfix_to_prefix(postfix_expression)\n",
    "print(\"Prefix expression:\", prefix_expression)"
   ]
  },
  {
   "cell_type": "code",
   "execution_count": 40,
   "id": "3467bef6",
   "metadata": {},
   "outputs": [
    {
     "name": "stdout",
     "output_type": "stream",
     "text": [
      "Infix expression: ((2 + 3) * 4)\n"
     ]
    }
   ],
   "source": [
    "# 7. Write a program to convert prefix expression to infix expression.\n",
    "\n",
    "def is_operator(char):\n",
    "    return char in \"+-*/\"\n",
    "\n",
    "def prefix_to_infix(prefix_expr):\n",
    "    stack = []\n",
    "    \n",
    "    tokens = prefix_expr.split()\n",
    "    tokens.reverse()  \n",
    "    \n",
    "    for token in tokens:\n",
    "        if token.isalnum():\n",
    "            stack.append(token)\n",
    "        elif is_operator(token):\n",
    "            operand1 = stack.pop()\n",
    "            operand2 = stack.pop()\n",
    "            expression = f\"({operand1} {token} {operand2})\"\n",
    "            stack.append(expression)\n",
    "    \n",
    "    return stack[0]\n",
    "\n",
    "prefix_expression = \"* + 2 3 4\"\n",
    "infix_expression = prefix_to_infix(prefix_expression)\n",
    "print(\"Infix expression:\", infix_expression)"
   ]
  },
  {
   "cell_type": "code",
   "execution_count": 42,
   "id": "e38f741e",
   "metadata": {},
   "outputs": [
    {
     "name": "stdout",
     "output_type": "stream",
     "text": [
      "Brackets are not properly closed.\n"
     ]
    }
   ],
   "source": [
    "# Q8. Write a program to check if all the brackets are closed in a given code snippet.\n",
    "\n",
    "def are_brackets_balanced(code):\n",
    "    stack = []\n",
    "    brackets = {\"(\": \")\", \"[\": \"]\", \"{\": \"}\"}\n",
    "    \n",
    "    for char in code:\n",
    "        if char in brackets.keys():\n",
    "            stack.append(char)\n",
    "        elif char in brackets.values():\n",
    "            if not stack or brackets[stack.pop()] != char:\n",
    "                return False\n",
    "    \n",
    "    return not stack \n",
    "\n",
    "\n",
    "code_snippet = \"{[()}\"\n",
    "result = are_brackets_balanced(code_snippet)\n",
    "\n",
    "if result:\n",
    "    print(\"All brackets are properly closed.\")\n",
    "else:\n",
    "    print(\"Brackets are not properly closed.\")\n",
    "    "
   ]
  },
  {
   "cell_type": "code",
   "execution_count": 43,
   "id": "c8f88141",
   "metadata": {},
   "outputs": [
    {
     "name": "stdout",
     "output_type": "stream",
     "text": [
      "Reversed stack:\n",
      "1\n",
      "2\n",
      "3\n",
      "4\n"
     ]
    }
   ],
   "source": [
    "# Q9. Write a program to reverse a stack.\n",
    "\n",
    "class Stack:\n",
    "    def __init__(self):\n",
    "        self.items = []\n",
    "    \n",
    "    def push(self, item):\n",
    "        self.items.append(item)\n",
    "    \n",
    "    def pop(self):\n",
    "        if not self.is_empty():\n",
    "            return self.items.pop()\n",
    "    \n",
    "    def is_empty(self):\n",
    "        return len(self.items) == 0\n",
    "    \n",
    "    def size(self):\n",
    "        return len(self.items)\n",
    "\n",
    "def reverse_stack(stack):\n",
    "    aux_stack = Stack()\n",
    "    \n",
    "    while not stack.is_empty():\n",
    "        aux_stack.push(stack.pop())\n",
    "    \n",
    "    return aux_stack\n",
    "\n",
    "# Example usage\n",
    "original_stack = Stack()\n",
    "original_stack.push(1)\n",
    "original_stack.push(2)\n",
    "original_stack.push(3)\n",
    "original_stack.push(4)\n",
    "\n",
    "reversed_stack = reverse_stack(original_stack)\n",
    "\n",
    "print(\"Reversed stack:\")\n",
    "while not reversed_stack.is_empty():\n",
    "    print(reversed_stack.pop())\n",
    "\n"
   ]
  },
  {
   "cell_type": "code",
   "execution_count": 44,
   "id": "83d562ea",
   "metadata": {},
   "outputs": [
    {
     "name": "stdout",
     "output_type": "stream",
     "text": [
      "Smallest number: 1\n"
     ]
    }
   ],
   "source": [
    "# 10. Write a program to find the smallest number using a stack.\n",
    "\n",
    "class small_no:\n",
    "    def __init__(self):\n",
    "        self.stack = []\n",
    "        self.min_stack = []\n",
    "    \n",
    "    def push(self, value):\n",
    "        self.stack.append(value)\n",
    "        \n",
    "        if not self.min_stack or value <= self.min_stack[-1]:\n",
    "            self.min_stack.append(value)\n",
    "    \n",
    "    def pop(self):\n",
    "        if not self.is_empty():\n",
    "            if self.stack[-1] == self.min_stack[-1]:\n",
    "                self.min_stack.pop()\n",
    "            return self.stack.pop()\n",
    "    \n",
    "    def get_min(self):\n",
    "        if not self.is_empty():\n",
    "            return self.min_stack[-1]\n",
    "    \n",
    "    def is_empty(self):\n",
    "        return len(self.stack) == 0\n",
    "\n",
    "\n",
    "stack = small_no()\n",
    "stack.push(4)\n",
    "stack.push(6)\n",
    "stack.push(1)\n",
    "stack.push(3)\n",
    "\n",
    "print(\"Smallest number:\", stack.get_min())"
   ]
  },
  {
   "cell_type": "code",
   "execution_count": null,
   "id": "eb689f6e",
   "metadata": {},
   "outputs": [],
   "source": []
  }
 ],
 "metadata": {
  "kernelspec": {
   "display_name": "Python 3 (ipykernel)",
   "language": "python",
   "name": "python3"
  },
  "language_info": {
   "codemirror_mode": {
    "name": "ipython",
    "version": 3
   },
   "file_extension": ".py",
   "mimetype": "text/x-python",
   "name": "python",
   "nbconvert_exporter": "python",
   "pygments_lexer": "ipython3",
   "version": "3.11.3"
  }
 },
 "nbformat": 4,
 "nbformat_minor": 5
}
